{
 "cells": [
  {
   "cell_type": "code",
   "execution_count": 2,
   "id": "6ed5cf2a",
   "metadata": {},
   "outputs": [],
   "source": [
    "import requests\n",
    "from bs4 import BeautifulSoup\n",
    "import pandas as pd"
   ]
  },
  {
   "cell_type": "code",
   "execution_count": 3,
   "id": "d13b60a5",
   "metadata": {},
   "outputs": [
    {
     "name": "stdout",
     "output_type": "stream",
     "text": [
      "200\n"
     ]
    }
   ],
   "source": [
    "# Acessing to the website\n",
    "url = \"https://www.slpa.lk/berthing-programme/\"\n",
    "response = requests.get(url)\n",
    "print(response.status_code)\n",
    "\n"
   ]
  },
  {
   "cell_type": "code",
   "execution_count": 4,
   "id": "e2971d42",
   "metadata": {},
   "outputs": [],
   "source": [
    "soup =BeautifulSoup(response.text,\"html.parser\")\n",
    "table=soup.find(\"table\")"
   ]
  },
  {
   "cell_type": "code",
   "execution_count": 5,
   "id": "b2842cfd",
   "metadata": {},
   "outputs": [],
   "source": [
    "rows=[]\n",
    "if table:\n",
    "    for tr in table.find_all(\"tr\"):\n",
    "        cols =[td.get_text(strip=True) for td in tr.find_all([\"td\",\"th\"])]\n",
    "        if cols:\n",
    "            rows.append(cols)"
   ]
  },
  {
   "cell_type": "code",
   "execution_count": 6,
   "id": "7f6a16a1",
   "metadata": {},
   "outputs": [],
   "source": [
    "if rows:\n",
    "    columns = rows[0]\n",
    "    data=rows[1:]\n",
    "    df=pd.DataFrame(data,columns=columns)\n"
   ]
  },
  {
   "cell_type": "code",
   "execution_count": 7,
   "id": "f082f4cd",
   "metadata": {},
   "outputs": [],
   "source": [
    "df.to_csv(\"berthing_schedule.csv\",index=False,encoding=\"utf-8\")\n",
    "df.to_excel(\"berthing_schedule.xlsx\",index=False)\n",
    "          "
   ]
  },
  {
   "cell_type": "code",
   "execution_count": null,
   "id": "78d42e32",
   "metadata": {},
   "outputs": [],
   "source": []
  }
 ],
 "metadata": {
  "kernelspec": {
   "display_name": "Python 3",
   "language": "python",
   "name": "python3"
  },
  "language_info": {
   "codemirror_mode": {
    "name": "ipython",
    "version": 3
   },
   "file_extension": ".py",
   "mimetype": "text/x-python",
   "name": "python",
   "nbconvert_exporter": "python",
   "pygments_lexer": "ipython3",
   "version": "3.13.5"
  }
 },
 "nbformat": 4,
 "nbformat_minor": 5
}
